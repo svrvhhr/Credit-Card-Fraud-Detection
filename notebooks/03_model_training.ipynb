{
 "cells": [
  {
   "cell_type": "markdown",
   "metadata": {},
   "source": [
    "### **Entraînement des modèles**"
   ]
  },
  {
   "cell_type": "markdown",
   "metadata": {},
   "source": [
    "**Importation des bibliothèques et des données**"
   ]
  },
  {
   "cell_type": "code",
   "execution_count": 1,
   "metadata": {},
   "outputs": [
    {
     "name": "stdout",
     "output_type": "stream",
     "text": [
      "Taille de l'ensemble d'entraînement : (454904, 30), (454904, 1)\n",
      "Taille de l'ensemble de test : (113726, 30), (113726, 1)\n"
     ]
    }
   ],
   "source": [
    "# Importation des bibliothèques\n",
    "import pandas as pd\n",
    "import numpy as np\n",
    "from sklearn.linear_model import LogisticRegression\n",
    "from sklearn.tree import DecisionTreeClassifier\n",
    "from sklearn.ensemble import RandomForestClassifier\n",
    "from sklearn.model_selection import GridSearchCV\n",
    "from sklearn.metrics import classification_report, confusion_matrix, roc_auc_score\n",
    "\n",
    "# Chargement des ensembles d'entraînement et de test\n",
    "X_train = pd.read_csv('../data/X_train.csv')\n",
    "X_test = pd.read_csv('../data/X_test.csv')\n",
    "y_train = pd.read_csv('../data/y_train.csv')\n",
    "y_test = pd.read_csv('../data/y_test.csv')\n",
    "\n",
    "# Vérification des dimensions\n",
    "print(f\"Taille de l'ensemble d'entraînement : {X_train.shape}, {y_train.shape}\")\n",
    "print(f\"Taille de l'ensemble de test : {X_test.shape}, {y_test.shape}\")\n"
   ]
  },
  {
   "cell_type": "markdown",
   "metadata": {},
   "source": [
    "**Définition des modèles**"
   ]
  },
  {
   "cell_type": "markdown",
   "metadata": {},
   "source": [
    "Nous instancions trois modèles différents qui seront utilisés pour la classification des transactions comme frauduleuses ou non frauduleuses ."
   ]
  },
  {
   "cell_type": "code",
   "execution_count": 2,
   "metadata": {},
   "outputs": [],
   "source": [
    "# Instanciation des modèles\n",
    "logistic_model = LogisticRegression(random_state=42, max_iter=1000)\n",
    "decision_tree_model = DecisionTreeClassifier(random_state=42)\n",
    "random_forest_model = RandomForestClassifier(random_state=42)\n"
   ]
  },
  {
   "cell_type": "markdown",
   "metadata": {},
   "source": [
    "Ces trois modèles ont été choisis pour couvrir différents types d'algorithmes :\n",
    "\n",
    "- **Régression Logistique :** Approche linéaire simple, rapide et interprétable.\n",
    "- **Arbre de Décision :** Méthode flexible et adaptée aux données complexes, mais sensible à l'overfitting.\n",
    "- **Forêt Aléatoire :** Modèle puissant et robuste qui excelle dans les problèmes non linéaires et réduit les biais des arbres individuels.\n",
    "\n",
    "L’utilisation du même *random_state=42* garantit la reproductibilité des résultats pour les trois modèles, ce qui est crucial pour comparer leurs performances sur les mêmes jeux de données."
   ]
  },
  {
   "cell_type": "markdown",
   "metadata": {},
   "source": [
    "**Entraînement des modèles**"
   ]
  },
  {
   "cell_type": "markdown",
   "metadata": {},
   "source": [
    "*Régression logistique*"
   ]
  },
  {
   "cell_type": "markdown",
   "metadata": {},
   "source": [
    "Entraînement d'un modèle de régression logistique sur les données d’entraînement pour détecter les transactions frauduleuses. Il effectue des prédictions sur les données de test, puis évalue les performances du modèle à l'aide d'un rapport de classification et d'une matrice de confusion. Cela permet de mesurer l'efficacité du modèle dans la distinction entre transactions légitimes et frauduleuses."
   ]
  },
  {
   "cell_type": "code",
   "execution_count": 3,
   "metadata": {},
   "outputs": [
    {
     "name": "stdout",
     "output_type": "stream",
     "text": [
      "=== Régression Logistique ===\n",
      "              precision    recall  f1-score   support\n",
      "\n",
      "           0       0.93      0.98      0.95     56863\n",
      "           1       0.97      0.92      0.95     56863\n",
      "\n",
      "    accuracy                           0.95    113726\n",
      "   macro avg       0.95      0.95      0.95    113726\n",
      "weighted avg       0.95      0.95      0.95    113726\n",
      "\n",
      "Matrice de confusion :\n",
      " [[55446  1417]\n",
      " [ 4453 52410]]\n"
     ]
    }
   ],
   "source": [
    "# Entraînement du modèle de régression logistique\n",
    "logistic_model.fit(X_train, y_train.values.ravel())\n",
    "\n",
    "# Prédictions\n",
    "y_pred_logistic = logistic_model.predict(X_test)\n",
    "\n",
    "# Évaluation\n",
    "print(\"=== Régression Logistique ===\")\n",
    "print(classification_report(y_test, y_pred_logistic))\n",
    "print(\"Matrice de confusion :\\n\", confusion_matrix(y_test, y_pred_logistic))\n"
   ]
  },
  {
   "cell_type": "markdown",
   "metadata": {},
   "source": [
    "Le modèle atteint une **précision globale de 95%**, ce qui signifie que 95% des transactions ont été correctement classées comme frauduleuses ou non-frauduleuses. Les principales métriques de performance sont les suivantes :\n",
    "- **Précision (precision)** :\n",
    "  - **Transactions non-frauduleuses (Classe 0)** : 93% des transactions prédites comme non-frauduleuses sont effectivement légitimes.\n",
    "  - **Transactions frauduleuses (Classe 1)** : 97% des transactions prédites comme frauduleuses sont réellement frauduleuses.\n",
    "- **Rappel (recall)** :\n",
    "  - **Classe 0** : Le modèle a correctement identifié 98% des transactions réellement non-frauduleuses.\n",
    "  - **Classe 1** : Le modèle a correctement identifié 92% des transactions réellement frauduleuses.\n",
    "- **F1-score** : La valeur de 0.95 pour les deux classes reflète un bon équilibre entre précision et rappel, soulignant la capacité du modèle à identifier efficacement les deux types de transactions.\n",
    "\n",
    "**Analyse de la matrice de confusion**\n",
    "La matrice de confusion donne un aperçu détaillé des prédictions :\n",
    "- **Transactions non-frauduleuses (Classe 0)** :\n",
    "  - 55,446 transactions légitimes ont été correctement classées (**vrais négatifs**).\n",
    "  - 1,417 transactions légitimes ont été incorrectement signalées comme frauduleuses (**faux positifs**).\n",
    "- **Transactions frauduleuses (Classe 1)** :\n",
    "  - 52,410 transactions frauduleuses ont été correctement identifiées (**vrais positifs**).\n",
    "  - 4,453 transactions frauduleuses ont été manquées et classées comme légitimes (**faux négatifs**).\n",
    "\n",
    "**Interprétation**\n",
    "Le modèle montre une **forte capacité à détecter les transactions non-frauduleuses** (Classe 0) grâce à son taux de rappel élevé (98%). Cependant, il manque encore certaines transactions frauduleuses (Classe 1), comme en témoigne le nombre de faux négatifs (4,453). Cela peut représenter un risque pour la détection des fraudes, car ces transactions non détectées pourraient entraîner des pertes financières importantes.\n",
    "\n",
    "Le **faible taux de faux positifs** (1,417) est un atout majeur du modèle, car peu de transactions légitimes sont signalées à tort comme suspectes, ce qui limite les perturbations pour les utilisateurs.\n",
    "\n",
    "\n",
    "Bien que le modèle de régression logistique offre des performances solides et une bonne capacité à classer les transactions, des améliorations sont possibles. Il pourrait être utile d’explorer des modèles plus avancés, tels que :\n",
    "- **Arbres de décision** ou **forêts aléatoires**.\n",
    "- **Modèles basés sur le gradient boosting** (XGBoost, LightGBM, etc.).\n",
    "- **Méthodes d’optimisation des hyperparamètres**.\n",
    "\n",
    "Ces approches pourraient permettre d’améliorer encore le taux de détection des transactions frauduleuses tout en maintenant un faible taux de faux positifs."
   ]
  },
  {
   "cell_type": "code",
   "execution_count": 4,
   "metadata": {},
   "outputs": [
    {
     "name": "stdout",
     "output_type": "stream",
     "text": [
      "=== Arbre de Décision ===\n",
      "              precision    recall  f1-score   support\n",
      "\n",
      "           0       1.00      1.00      1.00     56863\n",
      "           1       1.00      1.00      1.00     56863\n",
      "\n",
      "    accuracy                           1.00    113726\n",
      "   macro avg       1.00      1.00      1.00    113726\n",
      "weighted avg       1.00      1.00      1.00    113726\n",
      "\n",
      "Matrice de confusion :\n",
      " [[56723   140]\n",
      " [   55 56808]]\n"
     ]
    }
   ],
   "source": [
    "# Entraînement du modèle d'arbre de décision\n",
    "decision_tree_model.fit(X_train, y_train.values.ravel())\n",
    "\n",
    "# Prédictions\n",
    "y_pred_tree = decision_tree_model.predict(X_test)\n",
    "\n",
    "# Évaluation\n",
    "print(\"=== Arbre de Décision ===\")\n",
    "print(classification_report(y_test, y_pred_tree))\n",
    "print(\"Matrice de confusion :\\n\", confusion_matrix(y_test, y_pred_tree))\n"
   ]
  },
  {
   "cell_type": "markdown",
   "metadata": {},
   "source": [
    "L'évaluation du modèle d'arbre de décision montre des performances exceptionnelles, avec une **précision globale de 100%**. Cela indique que le modèle classifie presque parfaitement les transactions, qu'elles soient frauduleuses ou non.\n",
    "\n",
    "**Performances globales**\n",
    "Les métriques clés pour les deux classes sont :\n",
    "- **Précision (precision)** :\n",
    "  - **Classe 0 (Non-frauduleuses)** : 100% des transactions prédites comme légitimes sont effectivement légitimes.\n",
    "  - **Classe 1 (Frauduleuses)** : 100% des transactions prédites comme frauduleuses sont réellement frauduleuses.\n",
    "- **Rappel (recall)** :\n",
    "  - **Classe 0** : 100% des transactions réellement non-frauduleuses ont été correctement identifiées.\n",
    "  - **Classe 1** : 100% des transactions réellement frauduleuses ont été correctement détectées.\n",
    "- **F1-score** : La valeur parfaite de **1.00** pour les deux classes confirme un équilibre optimal entre précision et rappel.\n",
    "\n",
    "**Analyse de la matrice de confusion**\n",
    "La matrice de confusion met en évidence :\n",
    "- **Transactions non-frauduleuses (Classe 0)** :\n",
    "  - 56,723 transactions légitimes ont été correctement classées (**vrais négatifs**).\n",
    "  - 140 transactions légitimes ont été signalées à tort comme frauduleuses (**faux positifs**).\n",
    "- **Transactions frauduleuses (Classe 1)** :\n",
    "  - 56,808 transactions frauduleuses ont été correctement identifiées (**vrais positifs**).\n",
    "  - 55 transactions frauduleuses ont été manquées et classées comme légitimes (**faux négatifs**).\n",
    "\n",
    "**Interprétation**\n",
    "Les résultats indiquent que l'arbre de décision est extrêmement performant sur cet ensemble de données. Cependant, des performances parfaites comme celles-ci peuvent indiquer un **surapprentissage** (overfitting), surtout si le modèle a appris trop précisément les données d'entraînement et risque de ne pas généraliser efficacement sur de nouvelles données.\n",
    "\n",
    "- **Taux de faux positifs faible (140)** : Peu de transactions légitimes sont signalées à tort comme suspectes.\n",
    "- **Taux de faux négatifs très faible (55)** : La plupart des transactions frauduleuses sont détectées.\n"
   ]
  },
  {
   "cell_type": "code",
   "execution_count": 5,
   "metadata": {},
   "outputs": [
    {
     "name": "stdout",
     "output_type": "stream",
     "text": [
      "=== Forêt Aléatoire ===\n",
      "              precision    recall  f1-score   support\n",
      "\n",
      "           0       1.00      1.00      1.00     56863\n",
      "           1       1.00      1.00      1.00     56863\n",
      "\n",
      "    accuracy                           1.00    113726\n",
      "   macro avg       1.00      1.00      1.00    113726\n",
      "weighted avg       1.00      1.00      1.00    113726\n",
      "\n",
      "Matrice de confusion :\n",
      " [[56847    16]\n",
      " [    0 56863]]\n"
     ]
    }
   ],
   "source": [
    "# Entraînement du modèle de forêt aléatoire\n",
    "random_forest_model.fit(X_train, y_train.values.ravel())\n",
    "\n",
    "# Prédictions\n",
    "y_pred_forest = random_forest_model.predict(X_test)\n",
    "\n",
    "# Évaluation\n",
    "print(\"=== Forêt Aléatoire ===\")\n",
    "print(classification_report(y_test, y_pred_forest))\n",
    "print(\"Matrice de confusion :\\n\", confusion_matrix(y_test, y_pred_forest))\n"
   ]
  },
  {
   "cell_type": "markdown",
   "metadata": {},
   "source": [
    "\n",
    "Le modèle de forêt aléatoire montre également des **performances exceptionnelles**, atteignant une **précision parfaite de 100%**. Cela indique que le modèle a classé toutes les transactions avec une grande précision, que ce soit frauduleuses ou non.\n",
    "\n",
    "**Performances globales**\n",
    "Les métriques clés pour les deux classes sont :\n",
    "- **Précision (precision)** :\n",
    "  - **Classe 0 (Non-frauduleuses)** : 100% des transactions prédites comme légitimes sont effectivement légitimes.\n",
    "  - **Classe 1 (Frauduleuses)** : 100% des transactions prédites comme frauduleuses sont réellement frauduleuses.\n",
    "- **Rappel (recall)** :\n",
    "  - **Classe 0** : 100% des transactions réellement non-frauduleuses ont été correctement identifiées.\n",
    "  - **Classe 1** : 100% des transactions réellement frauduleuses ont été correctement détectées.\n",
    "- **F1-score** : La valeur parfaite de **1.00** pour les deux classes confirme un équilibre optimal entre précision et rappel.\n",
    "\n",
    "**Analyse de la matrice de confusion**\n",
    "La matrice de confusion met en évidence :\n",
    "- **Transactions non-frauduleuses (Classe 0)** :\n",
    "  - 56,847 transactions légitimes ont été correctement classées (**vrais négatifs**).\n",
    "  - 16 transactions légitimes ont été signalées à tort comme frauduleuses (**faux positifs**).\n",
    "- **Transactions frauduleuses (Classe 1)** :\n",
    "  - 56,863 transactions frauduleuses ont été correctement identifiées (**vrais positifs**).\n",
    "  - Aucune transaction frauduleuse n'a été manquée (**faux négatifs = 0**).\n",
    "\n",
    "**Interprétation**\n",
    "Les résultats de la forêt aléatoire sont pratiquement identiques à ceux de l'arbre de décision, avec des performances parfaites. Le modèle a réussi à détecter toutes les transactions frauduleuses et non frauduleuses sans aucune erreur notable.\n",
    "\n",
    "- **Taux de faux positifs très faible (16)** : Très peu de transactions légitimes sont incorrectement classées comme suspectes.\n",
    "- **Aucun faux négatif (0)** : Toutes les transactions frauduleuses ont été correctement identifiées, ce qui est un excellent résultat pour la détection de la fraude.\n"
   ]
  },
  {
   "cell_type": "markdown",
   "metadata": {},
   "source": [
    "**Évaluation des performances des modèles**"
   ]
  },
  {
   "cell_type": "markdown",
   "metadata": {},
   "source": [
    "On évalue la capacité des trois modèles (régression logistique, arbre de décision et forêt aléatoire) à distinguer les transactions frauduleuses des transactions légitimes en utilisant les courbes ROC (Receiver Operating Characteristic) et les scores AUC (Area Under Curve)."
   ]
  },
  {
   "cell_type": "code",
   "execution_count": 6,
   "metadata": {},
   "outputs": [
    {
     "data": {
      "image/png": "[encoded data removed]",
      "text/plain": [
       "<Figure size 1000x600 with 1 Axes>"
      ]
     },
     "metadata": {},
     "output_type": "display_data"
    }
   ],
   "source": [
    "from sklearn.metrics import roc_curve, auc\n",
    "import matplotlib.pyplot as plt\n",
    "\n",
    "# Probabilités prédites\n",
    "y_pred_logistic_prob = logistic_model.predict_proba(X_test)[:, 1]\n",
    "y_pred_forest_prob = random_forest_model.predict_proba(X_test)[:, 1]\n",
    "y_pred_tree_prob = decision_tree_model.predict_proba(X_test)[:, 1]\n",
    "# Calcul des courbes ROC\n",
    "fpr_log, tpr_log, _ = roc_curve(y_test, y_pred_logistic_prob)\n",
    "fpr_tree, tpr_tree, _ = roc_curve(y_test, y_pred_tree_prob)\n",
    "fpr_forest, tpr_forest, _ = roc_curve(y_test, y_pred_forest_prob)\n",
    "\n",
    "# Calcul des scores AUC\n",
    "auc_log = auc(fpr_log, tpr_log)\n",
    "auc_tree = auc(fpr_tree, tpr_tree)\n",
    "auc_forest = auc(fpr_forest, tpr_forest)\n",
    "\n",
    "# Visualisation\n",
    "plt.figure(figsize=(10, 6))\n",
    "plt.plot(fpr_log, tpr_log, label=f\"Régression Logistique (AUC = {auc_log:.2f})\")\n",
    "plt.plot(fpr_tree, tpr_tree, label=f\"Arbre de Décision (AUC = {auc_tree:.2f})\")\n",
    "plt.plot(fpr_forest, tpr_forest, label=f\"Forêt Aléatoire (AUC = {auc_forest:.2f})\")\n",
    "plt.plot([0, 1], [0, 1], 'k--', label=\"Chance\")\n",
    "plt.xlabel(\"Taux de Faux Positifs\")\n",
    "plt.ylabel(\"Taux de Vrais Positifs\")\n",
    "plt.title(\"Courbe ROC\")\n",
    "plt.legend()\n",
    "plt.savefig('../results/figures/courbe-ROC.png')\n",
    "plt.show()\n"
   ]
  },
  {
   "cell_type": "markdown",
   "metadata": {},
   "source": [
    "La forêt aléatoire se démarque comme le modèle le plus performant grâce à son AUC quasi parfaite et sa capacité à équilibrer précision et rappel. Cependant, la régression logistique et l'arbre de décision offrent des performances satisfaisantes, avec des courbes ROC indiquant une bonne séparation entre les classes. Ces résultats justifient l'utilisation de la forêt aléatoire comme modèle final ou de référence pour les tâches de détection de fraude."
   ]
  },
  {
   "cell_type": "code",
   "execution_count": 7,
   "metadata": {},
   "outputs": [
    {
     "name": "stdout",
     "output_type": "stream",
     "text": [
      "Modèles sauvegardés avec succès.\n"
     ]
    }
   ],
   "source": [
    "import joblib\n",
    "\n",
    "# Sauvegarde des modèles\n",
    "joblib.dump(logistic_model, '../models/logistic_model.pkl')\n",
    "joblib.dump(decision_tree_model, '../models/decision_tree_model.pkl')\n",
    "joblib.dump(random_forest_model, '../models/random_forest_model.pkl')\n",
    "\n",
    "print(\"Modèles sauvegardés avec succès.\")\n"
   ]
  },
  {
   "cell_type": "markdown",
   "metadata": {},
   "source": [
    "**Optimisation des hyperparamètres**"
   ]
  },
  {
   "cell_type": "markdown",
   "metadata": {},
   "source": [
    "Utilisation de GridSearchCV pour optimiser les modèles, pour la forêt aléatoire."
   ]
  },
  {
   "cell_type": "code",
   "execution_count": 9,
   "metadata": {},
   "outputs": [
    {
     "name": "stdout",
     "output_type": "stream",
     "text": [
      "Fitting 3 folds for each of 8 candidates, totalling 24 fits\n",
      "[CV] END ..max_depth=5, min_samples_split=2, n_estimators=10; total time=  22.7s\n",
      "[CV] END ..max_depth=5, min_samples_split=2, n_estimators=10; total time=  19.5s\n",
      "[CV] END ..max_depth=5, min_samples_split=2, n_estimators=10; total time=  19.6s\n",
      "[CV] END ..max_depth=5, min_samples_split=2, n_estimators=50; total time= 1.6min\n",
      "[CV] END ..max_depth=5, min_samples_split=2, n_estimators=50; total time= 1.6min\n",
      "[CV] END ..max_depth=5, min_samples_split=2, n_estimators=50; total time= 1.6min\n",
      "[CV] END ..max_depth=5, min_samples_split=5, n_estimators=10; total time=  19.2s\n",
      "[CV] END ..max_depth=5, min_samples_split=5, n_estimators=10; total time=  19.0s\n",
      "[CV] END ..max_depth=5, min_samples_split=5, n_estimators=10; total time=  19.4s\n",
      "[CV] END ..max_depth=5, min_samples_split=5, n_estimators=50; total time= 1.6min\n",
      "[CV] END ..max_depth=5, min_samples_split=5, n_estimators=50; total time= 1.6min\n",
      "[CV] END ..max_depth=5, min_samples_split=5, n_estimators=50; total time= 1.6min\n",
      "[CV] END .max_depth=10, min_samples_split=2, n_estimators=10; total time=  35.8s\n",
      "[CV] END .max_depth=10, min_samples_split=2, n_estimators=10; total time=  36.2s\n",
      "[CV] END .max_depth=10, min_samples_split=2, n_estimators=10; total time=  36.2s\n",
      "[CV] END .max_depth=10, min_samples_split=2, n_estimators=50; total time= 2.8min\n",
      "[CV] END .max_depth=10, min_samples_split=2, n_estimators=50; total time= 2.7min\n",
      "[CV] END .max_depth=10, min_samples_split=2, n_estimators=50; total time= 3.1min\n",
      "[CV] END .max_depth=10, min_samples_split=5, n_estimators=10; total time=  37.4s\n",
      "[CV] END .max_depth=10, min_samples_split=5, n_estimators=10; total time=  33.9s\n",
      "[CV] END .max_depth=10, min_samples_split=5, n_estimators=10; total time=  16.4s\n",
      "[CV] END .max_depth=10, min_samples_split=5, n_estimators=50; total time= 1.4min\n",
      "[CV] END .max_depth=10, min_samples_split=5, n_estimators=50; total time= 1.4min\n",
      "[CV] END .max_depth=10, min_samples_split=5, n_estimators=50; total time= 1.4min\n",
      "Modèle réentrainé et sauvegardé avec succès !\n"
     ]
    }
   ],
   "source": [
    "import logging\n",
    "\n",
    "# Configurer le logger\n",
    "logging.basicConfig(filename='../results/logs/model_training.log', level=logging.INFO, format='%(asctime)s - %(levelname)s - %(message)s')\n",
    "\n",
    "# Paramètres de recherche\n",
    "param_grid = {\n",
    "    'n_estimators': [10, 50],  # Réduire le nombre d'arbres\n",
    "    'max_depth': [5, 10],  # Limiter la profondeur des arbres\n",
    "    'min_samples_split': [2, 5]  # Limiter les valeurs de min_samples_split\n",
    "}\n",
    "\n",
    "# Recherche des meilleurs paramètres\n",
    "logging.info(\"Lancement de la recherche des meilleurs paramètres avec GridSearchCV...\")\n",
    "grid_search = GridSearchCV(estimator=random_forest_model, param_grid=param_grid, scoring='roc_auc', cv=3, verbose=2)\n",
    "grid_search.fit(X_train, y_train.values.ravel())\n",
    "\n",
    "# Meilleurs paramètres\n",
    "best_params = grid_search.best_params_\n",
    "logging.info(f\"Meilleurs paramètres trouvés : {best_params}\")\n",
    "\n",
    "# Enregistrer le score AUC du meilleur modèle\n",
    "best_auc = grid_search.best_score_\n",
    "logging.info(f\"Meilleur score AUC trouvé : {best_auc:.4f}\")\n",
    "\n",
    "# Réentraîner le modèle avec les meilleurs paramètres\n",
    "best_model = grid_search.best_estimator_\n",
    "best_model.fit(X_train, y_train.values.ravel())\n",
    "\n",
    "# Sauvegarder les paramètres du modèle dans un fichier log\n",
    "logging.info(f\"Modèle réentrainé avec les meilleurs paramètres : {best_params}\")\n",
    "\n",
    "# Optionnel : Sauvegarder également le modèle si nécessaire (exemple avec joblib)\n",
    "import joblib\n",
    "joblib.dump(best_model, '../models/best_random_forest_model.pkl')\n",
    "logging.info(\"Modèle sauvegardé sous '../models/best_random_forest_model.pkl'\")\n",
    "\n",
    "print(\"Modèle réentrainé et sauvegardé avec succès !\")\n"
   ]
  },
  {
   "cell_type": "markdown",
   "metadata": {},
   "source": []
  }
 ],
 "metadata": {
  "kernelspec": {
   "display_name": "Python 3",
   "language": "python",
   "name": "python3"
  },
  "language_info": {
   "codemirror_mode": {
    "name": "ipython",
    "version": 3
   },
   "file_extension": ".py",
   "mimetype": "text/x-python",
   "name": "python",
   "nbconvert_exporter": "python",
   "pygments_lexer": "ipython3",
   "version": "3.10.12"
  }
 },
 "nbformat": 4,
 "nbformat_minor": 2
}
